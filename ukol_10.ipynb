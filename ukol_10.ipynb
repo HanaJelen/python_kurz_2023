{
 "cells": [
  {
   "cell_type": "code",
   "execution_count": null,
   "metadata": {},
   "outputs": [],
   "source": [
    "ÚKOL 10 ČAST 1:\n",
    "Uvažuj, že zpracováváš analýzu pro softwarovou firmu. Firma má kanceláře v Praze, Plzni a Liberci. Seznam zaměstnanců pro jednotlivé kanceláře najdeš v souborech zam_praha.csv, zam_plzeň.csv a zam_liberec.csv.\n",
    "\n",
    "Načti data o zaměstnancích z CSV souborů do tabulek (DataFrame). Ke každé tabulce přidej nový sloupec mesto, které bude obsahovat informaci o tom, ve kterém městě zaměstnanec pracuje.\n",
    "Vytvoř novou tabulku zamestnanci a ulož do ní informace o všech zaměstnancích (operace concat).\n",
    "Ze souboru platy_2021_02.csv načti platy zaměstnanců za únor 2021. Propoj tabulku (operace join) s platy a tabulku se zaměstnanci pomocí sloupce cislo_zamestnance.\n",
    "Porovnej rozměry tabulek před spojením a po spojení. Pokud nemá některý zaměstnanec plat za únor, znamená to, že v naší firmě již nepracuje.\n",
    "Spočti průměrný plat zaměstnanců v jednotlivých kancelářích."
   ]
  },
  {
   "cell_type": "code",
   "execution_count": 26,
   "metadata": {},
   "outputs": [
    {
     "name": "stdout",
     "output_type": "stream",
     "text": [
      "(56, 5)\n",
      "(43, 6)\n"
     ]
    },
    {
     "data": {
      "text/plain": [
       "mesto\n",
       "Liberec    43775.000000\n",
       "Plzeň      44792.857143\n",
       "Praha      43295.238095\n",
       "Name: plat, dtype: float64"
      ]
     },
     "execution_count": 26,
     "metadata": {},
     "output_type": "execute_result"
    }
   ],
   "source": [
    "import pandas as pd\n",
    "Praha = pd.read_csv(\"zam_praha.csv\")\n",
    "Plzen = pd.read_csv(\"zam_plzen.csv\")\n",
    "Liberec = pd. read_csv(\"zam_liberec.csv\")\n",
    "#přidání nových sloupců a vložení hodnot\n",
    "Praha[\"mesto\"] = \"Praha\"\n",
    "Plzen[\"mesto\"] = \"Plzeň\"\n",
    "Liberec[\"mesto\"] = \"Liberec\"\n",
    "\n",
    "zamestnanci = pd.concat([Praha, Plzen, Liberec], ignore_index=True)\n",
    "\n",
    "platy_2_21 = pd.read_csv(\"platy_2021_02.csv\")\n",
    "\n",
    "zamestnanci_unor_21 = pd.merge(zamestnanci, platy_2_21, on=[\"cislo_zamestnance\"])\n",
    "\n",
    "print(zamestnanci.shape)\n",
    "print(zamestnanci_unor_21.shape)\n",
    "#původní tabulka obsahovala 56 zaměstnanců a nová únorová obsahuje 43 zaměstnanců\n",
    "\n",
    "zamestnanci_unor_21.groupby(\"mesto\")[\"plat\"].mean()\n"
   ]
  },
  {
   "cell_type": "markdown",
   "metadata": {},
   "source": [
    "ČAST 2:\n",
    "Pokračuj ve své práci pro softwarovou firmu. Ze souboru vykazy.csv načti informace o výkazech na projekty pro jednoho vybraného zákazníka.\n",
    "\n",
    "Načti data ze souboru a ulož je do tabulky.\n",
    "Proveď agregaci a zjisti celkový počet vykázaných hodin za jednotlivé projekty."
   ]
  },
  {
   "cell_type": "code",
   "execution_count": 2,
   "metadata": {},
   "outputs": [
    {
     "data": {
      "text/plain": [
       "project\n",
       "F30    21.5\n",
       "JL9     2.1\n",
       "TE1    16.0\n",
       "W05    30.5\n",
       "YLI    31.0\n",
       "Name: hours, dtype: float64"
      ]
     },
     "execution_count": 2,
     "metadata": {},
     "output_type": "execute_result"
    }
   ],
   "source": [
    "pd.set_option(\"display.max_row\", 70)\n",
    "vykazy = pd.read_csv(\"vykazy.csv\")\n",
    "\n",
    "vykazy.groupby(\"project\")[\"hours\"].sum()"
   ]
  },
  {
   "cell_type": "markdown",
   "metadata": {},
   "source": [
    "Bonus 1:\n",
    "Ulož do proměnné počet zaměstnanců, kteří v naší firmě již nepracují.\n",
    "V rámci úspory se IT oddělení rozhodlo prověřit licence přidělené zaměstnancům, kteří ve firmě již nepracují. Vytvoř samostatnou tabulku, která obsahuje jména zaměstnanců, kteří ve firmě již nepracují. Tabulku ulož do souboru CSV."
   ]
  },
  {
   "cell_type": "code",
   "execution_count": 30,
   "metadata": {},
   "outputs": [],
   "source": [
    "#vytvořila jsem si novou tabulku, která obsahuje i zaměstnance, kteří v unoru nepracovali\n",
    "zamestnanci_full = pd.merge(zamestnanci, platy_2_21, on=[\"cislo_zamestnance\"], how=\"outer\")\n",
    "#pomocí metody fillna najdu a přeměním NaN hodnoty na nulové, abych mohla použít podmíněné vyhledávání pro vyhledání nepracujících\n",
    "zamestnanci_full = zamestnanci_full.fillna(value=0)\n",
    "#uložím do tabulky lidi, kteří již nejsou zaměstnanci\n",
    "nepracujici_zamestnanci = zamestnanci_full[zamestnanci_full[\"plat\"] == 0]\n",
    "#uložení tabulky\n",
    "nepracujici_zamestnanci.to_csv(\"nepracujici.csv\", index=False)\n"
   ]
  },
  {
   "cell_type": "markdown",
   "metadata": {},
   "source": [
    "NEPOVINNÝ BONUS 2:\n",
    "Propoj tabulku s výkazy s tabulkou se zaměstnanci, kterou jsi vytvořil(a) v předchozím cvičení.\n",
    "Následně proveď statistiku vykázaných hodin za jednotlivé kanceláře, tj. spočítej celkový počet hodin vykázaný zaměstnanci jednotlivých kanceláří na projekty daného zákazníka."
   ]
  },
  {
   "cell_type": "code",
   "execution_count": 31,
   "metadata": {},
   "outputs": [],
   "source": [
    "zamestnanci_hodiny_2_23 =  pd.merge(zamestnanci_unor_21, vykazy, left_on=[\"cislo_zamestnance\"], right_on=[\"emloyee_id\"])\n",
    "#volím bez \"outer\", protože tabulka by potom obsahovali i nezamestnance tedy externí pracovníky, usuzuji dle toho, že ač vykázali hodiny na projektu a jejich id bylo v seznamu\n",
    "#zaměstnanců, již ale nebyli mezi výplatami v únoru, z toho usuzuji, že jedná o OSVČ placené fakturou"
   ]
  },
  {
   "cell_type": "code",
   "execution_count": 21,
   "metadata": {},
   "outputs": [
    {
     "data": {
      "text/plain": [
       "mesto    project\n",
       "Liberec  TE1         6.2\n",
       "         W05         5.4\n",
       "         YLI         6.4\n",
       "Plzeň    F30         7.8\n",
       "Praha    F30         5.6\n",
       "         TE1         2.8\n",
       "         W05        21.1\n",
       "         YLI        10.3\n",
       "Name: hours, dtype: float64"
      ]
     },
     "execution_count": 21,
     "metadata": {},
     "output_type": "execute_result"
    }
   ],
   "source": [
    "zamestnanci_hodiny_2_23.groupby([\"mesto\",\"project\"])[\"hours\"].sum()\n",
    "#zadávám, že chci sumy hodin dle města a následně dle projektu"
   ]
  }
 ],
 "metadata": {
  "kernelspec": {
   "display_name": "Python 3",
   "language": "python",
   "name": "python3"
  },
  "language_info": {
   "codemirror_mode": {
    "name": "ipython",
    "version": 3
   },
   "file_extension": ".py",
   "mimetype": "text/x-python",
   "name": "python",
   "nbconvert_exporter": "python",
   "pygments_lexer": "ipython3",
   "version": "3.11.5"
  }
 },
 "nbformat": 4,
 "nbformat_minor": 2
}
